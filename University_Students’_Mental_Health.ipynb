{
 "cells": [
  {
   "cell_type": "markdown",
   "id": "11963005",
   "metadata": {},
   "source": [
    "# University Students’ Mental Health"
   ]
  },
  {
   "cell_type": "markdown",
   "id": "1dcfe1d1",
   "metadata": {},
   "source": [
    "## 🧠 Background\n",
    "Mental health has become an increasingly important topic among university students, especially in the context of rising academic pressure, social isolation, and the impact of external stressors such as the COVID-19 pandemic. University students often experience stress, anxiety, and depression due to factors such as heavy coursework, financial issues, and personal challenges.\n",
    "\n",
    "In Malaysia, concerns about student mental health are growing. Various studies and surveys have shown that a significant proportion of university students suffer from symptoms of psychological distress, but only a few seek professional help."
   ]
  },
  {
   "cell_type": "markdown",
   "id": "655b2ee5",
   "metadata": {},
   "source": [
    "## 🎯 Objectives\n",
    "This data analysis project aims to explore the mental health status of university students using survey-based datasets. The main objectives are:\n",
    "\n",
    "1. To understand the overall mental health condition of university students.\n",
    "2. To identify key factors that influence students' mental well-being.\n",
    "3. To visualize mental health trends by demographics (e.g., gender, age, academic year).\n"
   ]
  },
  {
   "cell_type": "markdown",
   "id": "f333047a",
   "metadata": {},
   "source": [
    "## 💻 Tools and Libraries\n",
    "This project is implemented using Python in a Jupyter Notebook, utilizing common data science libraries:\n",
    "\n",
    "1. pandas for data loading and manipulation\n",
    "2. matplotlib and seaborn for visualization\n",
    "3. scikit-learn (if modeling is included)"
   ]
  }
 ],
 "metadata": {
  "language_info": {
   "name": "python"
  }
 },
 "nbformat": 4,
 "nbformat_minor": 5
}
