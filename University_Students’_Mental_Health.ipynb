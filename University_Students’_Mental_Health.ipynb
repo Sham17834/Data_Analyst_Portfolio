{
 "cells": [
  {
   "cell_type": "markdown",
   "id": "11963005",
   "metadata": {},
   "source": [
    "# University Students’ Mental Health"
   ]
  },
  {
   "cell_type": "markdown",
   "id": "1dcfe1d1",
   "metadata": {},
   "source": [
    "## 🧠 Background\n",
    "Mental health has become an increasingly important topic among university students, especially in the context of rising academic pressure, social isolation, and the impact of external stressors such as the COVID-19 pandemic. University students often experience stress, anxiety, and depression due to factors such as heavy coursework, financial issues, and personal challenges.\n",
    "\n",
    "In Malaysia, concerns about student mental health are growing. Various studies and surveys have shown that a significant proportion of university students suffer from symptoms of psychological distress, but only a few seek professional help."
   ]
  },
  {
   "cell_type": "markdown",
   "id": "655b2ee5",
   "metadata": {},
   "source": [
    "## 🎯 Objectives\n",
    "This data analysis project aims to explore the mental health status of university students using survey-based datasets. The main objectives are:\n",
    "\n",
    "1. To understand the overall mental health condition of university students.\n",
    "2. To identify key factors that influence students' mental well-being.\n",
    "3. To visualize mental health trends by demographics (e.g., gender, age, academic year).\n"
   ]
  },
  {
   "cell_type": "markdown",
   "id": "bb9607cb",
   "metadata": {},
   "source": [
    "## 📂 Dataset\n",
    "The dataset used in this project contains anonymized responses from university students related to their mental health, academic pressure, personal habits, and emotional well-being. The Kaggle dataset typically includes features such as:\n",
    "\n",
    "1. Timestamp\n",
    "2. Gender\n",
    "3. Age\n",
    "4. Course\n",
    "5. YearOfStudy\n",
    "6. CGPA\n",
    "7. Depression\n",
    "8. Anxiety\n",
    "9. PanicAttack\n",
    "10. specialistTreatment\n",
    "11. SymptomFrequency_Last7Days\n",
    "12. HasMentalHealthSupport\n",
    "13. SleepQuality\n",
    "14. StudyStressLevel\n",
    "15. StudyHoursPerWeek\n",
    "16. AcademicEngagement"
   ]
  },
  {
   "cell_type": "markdown",
   "id": "e9bf86bb",
   "metadata": {},
   "source": [
    "## 💻 Tools and Libraries\n",
    "This project is implemented using Python in a Jupyter Notebook, utilizing common data science libraries:\n",
    "\n",
    "1. pandas for data loading and manipulation\n",
    "2. matplotlib and seaborn for visualization\n",
    "3. scikit-learn (if modeling is included)"
   ]
  },
  {
   "cell_type": "markdown",
   "id": "6b2ea158",
   "metadata": {},
   "source": [
    "### Import Necessary Libraries"
   ]
  },
  {
   "cell_type": "code",
   "execution_count": 1,
   "id": "947119df",
   "metadata": {},
   "outputs": [],
   "source": [
    "import pandas as pd\n",
    "import numpy as np\n",
    "import matplotlib.pyplot as plt\n",
    "import seaborn as sns"
   ]
  },
  {
   "cell_type": "markdown",
   "id": "e714f938",
   "metadata": {},
   "source": [
    "### Load the dataset"
   ]
  },
  {
   "cell_type": "code",
   "execution_count": 2,
   "id": "5ae9e6a4",
   "metadata": {},
   "outputs": [],
   "source": [
    "df = pd.read_csv('C:/Users/Yong1/Documents/mentalhealth_dataset.csv')"
   ]
  },
  {
   "cell_type": "markdown",
   "id": "5489175c",
   "metadata": {},
   "source": [
    "### Display first five rows "
   ]
  },
  {
   "cell_type": "code",
   "execution_count": null,
   "id": "abb56fb4",
   "metadata": {},
   "outputs": [
    {
     "name": "stdout",
     "output_type": "stream",
     "text": [
      "The first few rows of the dataset:\n"
     ]
    },
    {
     "data": {
      "text/html": [
       "<div>\n",
       "<style scoped>\n",
       "    .dataframe tbody tr th:only-of-type {\n",
       "        vertical-align: middle;\n",
       "    }\n",
       "\n",
       "    .dataframe tbody tr th {\n",
       "        vertical-align: top;\n",
       "    }\n",
       "\n",
       "    .dataframe thead th {\n",
       "        text-align: right;\n",
       "    }\n",
       "</style>\n",
       "<table border=\"1\" class=\"dataframe\">\n",
       "  <thead>\n",
       "    <tr style=\"text-align: right;\">\n",
       "      <th></th>\n",
       "      <th>Timestamp</th>\n",
       "      <th>Gender</th>\n",
       "      <th>Age</th>\n",
       "      <th>Course</th>\n",
       "      <th>YearOfStudy</th>\n",
       "      <th>CGPA</th>\n",
       "      <th>Depression</th>\n",
       "      <th>Anxiety</th>\n",
       "      <th>PanicAttack</th>\n",
       "      <th>SpecialistTreatment</th>\n",
       "      <th>SymptomFrequency_Last7Days</th>\n",
       "      <th>HasMentalHealthSupport</th>\n",
       "      <th>SleepQuality</th>\n",
       "      <th>StudyStressLevel</th>\n",
       "      <th>StudyHoursPerWeek</th>\n",
       "      <th>AcademicEngagement</th>\n",
       "    </tr>\n",
       "  </thead>\n",
       "  <tbody>\n",
       "    <tr>\n",
       "      <th>0</th>\n",
       "      <td>13/7/2020</td>\n",
       "      <td>Female</td>\n",
       "      <td>24</td>\n",
       "      <td>Biotechnology</td>\n",
       "      <td>Year 3</td>\n",
       "      <td>2.38</td>\n",
       "      <td>1</td>\n",
       "      <td>0</td>\n",
       "      <td>0</td>\n",
       "      <td>0</td>\n",
       "      <td>5</td>\n",
       "      <td>0</td>\n",
       "      <td>4</td>\n",
       "      <td>5</td>\n",
       "      <td>8</td>\n",
       "      <td>2</td>\n",
       "    </tr>\n",
       "    <tr>\n",
       "      <th>1</th>\n",
       "      <td>13/7/2020</td>\n",
       "      <td>Female</td>\n",
       "      <td>18</td>\n",
       "      <td>Biotechnology</td>\n",
       "      <td>Year 3</td>\n",
       "      <td>4.00</td>\n",
       "      <td>0</td>\n",
       "      <td>1</td>\n",
       "      <td>0</td>\n",
       "      <td>0</td>\n",
       "      <td>0</td>\n",
       "      <td>0</td>\n",
       "      <td>4</td>\n",
       "      <td>4</td>\n",
       "      <td>13</td>\n",
       "      <td>5</td>\n",
       "    </tr>\n",
       "    <tr>\n",
       "      <th>2</th>\n",
       "      <td>13/7/2020</td>\n",
       "      <td>Female</td>\n",
       "      <td>25</td>\n",
       "      <td>Biotechnology</td>\n",
       "      <td>Year 3</td>\n",
       "      <td>3.68</td>\n",
       "      <td>0</td>\n",
       "      <td>0</td>\n",
       "      <td>1</td>\n",
       "      <td>0</td>\n",
       "      <td>3</td>\n",
       "      <td>0</td>\n",
       "      <td>1</td>\n",
       "      <td>2</td>\n",
       "      <td>13</td>\n",
       "      <td>1</td>\n",
       "    </tr>\n",
       "    <tr>\n",
       "      <th>3</th>\n",
       "      <td>13/7/2020</td>\n",
       "      <td>Female</td>\n",
       "      <td>18</td>\n",
       "      <td>Engineering</td>\n",
       "      <td>year 4</td>\n",
       "      <td>4.00</td>\n",
       "      <td>0</td>\n",
       "      <td>0</td>\n",
       "      <td>0</td>\n",
       "      <td>0</td>\n",
       "      <td>3</td>\n",
       "      <td>0</td>\n",
       "      <td>5</td>\n",
       "      <td>1</td>\n",
       "      <td>19</td>\n",
       "      <td>2</td>\n",
       "    </tr>\n",
       "    <tr>\n",
       "      <th>4</th>\n",
       "      <td>13/7/2020</td>\n",
       "      <td>Female</td>\n",
       "      <td>20</td>\n",
       "      <td>Engineering</td>\n",
       "      <td>year 4</td>\n",
       "      <td>2.00</td>\n",
       "      <td>1</td>\n",
       "      <td>1</td>\n",
       "      <td>0</td>\n",
       "      <td>0</td>\n",
       "      <td>0</td>\n",
       "      <td>0</td>\n",
       "      <td>2</td>\n",
       "      <td>4</td>\n",
       "      <td>3</td>\n",
       "      <td>2</td>\n",
       "    </tr>\n",
       "  </tbody>\n",
       "</table>\n",
       "</div>"
      ],
      "text/plain": [
       "   Timestamp  Gender  Age         Course YearOfStudy  CGPA  Depression  \\\n",
       "0  13/7/2020  Female   24  Biotechnology      Year 3  2.38           1   \n",
       "1  13/7/2020  Female   18  Biotechnology      Year 3  4.00           0   \n",
       "2  13/7/2020  Female   25  Biotechnology      Year 3  3.68           0   \n",
       "3  13/7/2020  Female   18    Engineering      year 4  4.00           0   \n",
       "4  13/7/2020  Female   20    Engineering      year 4  2.00           1   \n",
       "\n",
       "   Anxiety  PanicAttack  SpecialistTreatment  SymptomFrequency_Last7Days  \\\n",
       "0        0            0                    0                           5   \n",
       "1        1            0                    0                           0   \n",
       "2        0            1                    0                           3   \n",
       "3        0            0                    0                           3   \n",
       "4        1            0                    0                           0   \n",
       "\n",
       "   HasMentalHealthSupport  SleepQuality  StudyStressLevel  StudyHoursPerWeek  \\\n",
       "0                       0             4                 5                  8   \n",
       "1                       0             4                 4                 13   \n",
       "2                       0             1                 2                 13   \n",
       "3                       0             5                 1                 19   \n",
       "4                       0             2                 4                  3   \n",
       "\n",
       "   AcademicEngagement  \n",
       "0                   2  \n",
       "1                   5  \n",
       "2                   1  \n",
       "3                   2  \n",
       "4                   2  "
      ]
     },
     "execution_count": 12,
     "metadata": {},
     "output_type": "execute_result"
    }
   ],
   "source": [
    "print(\"The first few rows of the dataset:\")\n",
    "df.head()"
   ]
  },
  {
   "cell_type": "markdown",
   "id": "5c8bd02c",
   "metadata": {},
   "source": [
    "### Display dataset info"
   ]
  },
  {
   "cell_type": "code",
   "execution_count": 11,
   "id": "c87ffc4c",
   "metadata": {},
   "outputs": [
    {
     "name": "stdout",
     "output_type": "stream",
     "text": [
      "The information about the dataset:\n",
      "<class 'pandas.core.frame.DataFrame'>\n",
      "RangeIndex: 1000 entries, 0 to 999\n",
      "Data columns (total 16 columns):\n",
      " #   Column                      Non-Null Count  Dtype  \n",
      "---  ------                      --------------  -----  \n",
      " 0   Timestamp                   1000 non-null   object \n",
      " 1   Gender                      1000 non-null   object \n",
      " 2   Age                         1000 non-null   int64  \n",
      " 3   Course                      1000 non-null   object \n",
      " 4   YearOfStudy                 1000 non-null   object \n",
      " 5   CGPA                        1000 non-null   float64\n",
      " 6   Depression                  1000 non-null   int64  \n",
      " 7   Anxiety                     1000 non-null   int64  \n",
      " 8   PanicAttack                 1000 non-null   int64  \n",
      " 9   SpecialistTreatment         1000 non-null   int64  \n",
      " 10  SymptomFrequency_Last7Days  1000 non-null   int64  \n",
      " 11  HasMentalHealthSupport      1000 non-null   int64  \n",
      " 12  SleepQuality                1000 non-null   int64  \n",
      " 13  StudyStressLevel            1000 non-null   int64  \n",
      " 14  StudyHoursPerWeek           1000 non-null   int64  \n",
      " 15  AcademicEngagement          1000 non-null   int64  \n",
      "dtypes: float64(1), int64(11), object(4)\n",
      "memory usage: 125.1+ KB\n"
     ]
    }
   ],
   "source": [
    "print(\"The information about the dataset:\")\n",
    "df.info()"
   ]
  },
  {
   "cell_type": "markdown",
   "id": "97ef6161",
   "metadata": {},
   "source": [
    "### Display dataset basic statistics"
   ]
  },
  {
   "cell_type": "code",
   "execution_count": 10,
   "id": "afccf6c2",
   "metadata": {},
   "outputs": [
    {
     "name": "stdout",
     "output_type": "stream",
     "text": [
      "The statistical description of the dataset:\n"
     ]
    },
    {
     "data": {
      "text/html": [
       "<div>\n",
       "<style scoped>\n",
       "    .dataframe tbody tr th:only-of-type {\n",
       "        vertical-align: middle;\n",
       "    }\n",
       "\n",
       "    .dataframe tbody tr th {\n",
       "        vertical-align: top;\n",
       "    }\n",
       "\n",
       "    .dataframe thead th {\n",
       "        text-align: right;\n",
       "    }\n",
       "</style>\n",
       "<table border=\"1\" class=\"dataframe\">\n",
       "  <thead>\n",
       "    <tr style=\"text-align: right;\">\n",
       "      <th></th>\n",
       "      <th>Age</th>\n",
       "      <th>CGPA</th>\n",
       "      <th>Depression</th>\n",
       "      <th>Anxiety</th>\n",
       "      <th>PanicAttack</th>\n",
       "      <th>SpecialistTreatment</th>\n",
       "      <th>SymptomFrequency_Last7Days</th>\n",
       "      <th>HasMentalHealthSupport</th>\n",
       "      <th>SleepQuality</th>\n",
       "      <th>StudyStressLevel</th>\n",
       "      <th>StudyHoursPerWeek</th>\n",
       "      <th>AcademicEngagement</th>\n",
       "    </tr>\n",
       "  </thead>\n",
       "  <tbody>\n",
       "    <tr>\n",
       "      <th>count</th>\n",
       "      <td>1000.000000</td>\n",
       "      <td>1000.000000</td>\n",
       "      <td>1000.000000</td>\n",
       "      <td>1000.000000</td>\n",
       "      <td>1000.000000</td>\n",
       "      <td>1000.000000</td>\n",
       "      <td>1000.0000</td>\n",
       "      <td>1000.000000</td>\n",
       "      <td>1000.000000</td>\n",
       "      <td>1000.000000</td>\n",
       "      <td>1000.000000</td>\n",
       "      <td>1000.000000</td>\n",
       "    </tr>\n",
       "    <tr>\n",
       "      <th>mean</th>\n",
       "      <td>21.402000</td>\n",
       "      <td>3.122530</td>\n",
       "      <td>0.483000</td>\n",
       "      <td>0.474000</td>\n",
       "      <td>0.458000</td>\n",
       "      <td>0.067000</td>\n",
       "      <td>3.4980</td>\n",
       "      <td>0.067000</td>\n",
       "      <td>2.983000</td>\n",
       "      <td>3.045000</td>\n",
       "      <td>9.746000</td>\n",
       "      <td>3.055000</td>\n",
       "    </tr>\n",
       "    <tr>\n",
       "      <th>std</th>\n",
       "      <td>2.373611</td>\n",
       "      <td>0.810961</td>\n",
       "      <td>0.499961</td>\n",
       "      <td>0.499573</td>\n",
       "      <td>0.498482</td>\n",
       "      <td>0.250147</td>\n",
       "      <td>2.3081</td>\n",
       "      <td>0.250147</td>\n",
       "      <td>1.417999</td>\n",
       "      <td>1.417386</td>\n",
       "      <td>5.651497</td>\n",
       "      <td>1.422673</td>\n",
       "    </tr>\n",
       "    <tr>\n",
       "      <th>min</th>\n",
       "      <td>18.000000</td>\n",
       "      <td>2.000000</td>\n",
       "      <td>0.000000</td>\n",
       "      <td>0.000000</td>\n",
       "      <td>0.000000</td>\n",
       "      <td>0.000000</td>\n",
       "      <td>0.0000</td>\n",
       "      <td>0.000000</td>\n",
       "      <td>1.000000</td>\n",
       "      <td>1.000000</td>\n",
       "      <td>1.000000</td>\n",
       "      <td>1.000000</td>\n",
       "    </tr>\n",
       "    <tr>\n",
       "      <th>25%</th>\n",
       "      <td>19.000000</td>\n",
       "      <td>2.250000</td>\n",
       "      <td>0.000000</td>\n",
       "      <td>0.000000</td>\n",
       "      <td>0.000000</td>\n",
       "      <td>0.000000</td>\n",
       "      <td>1.7500</td>\n",
       "      <td>0.000000</td>\n",
       "      <td>2.000000</td>\n",
       "      <td>2.000000</td>\n",
       "      <td>5.000000</td>\n",
       "      <td>2.000000</td>\n",
       "    </tr>\n",
       "    <tr>\n",
       "      <th>50%</th>\n",
       "      <td>21.000000</td>\n",
       "      <td>3.250000</td>\n",
       "      <td>0.000000</td>\n",
       "      <td>0.000000</td>\n",
       "      <td>0.000000</td>\n",
       "      <td>0.000000</td>\n",
       "      <td>3.0000</td>\n",
       "      <td>0.000000</td>\n",
       "      <td>3.000000</td>\n",
       "      <td>3.000000</td>\n",
       "      <td>9.000000</td>\n",
       "      <td>3.000000</td>\n",
       "    </tr>\n",
       "    <tr>\n",
       "      <th>75%</th>\n",
       "      <td>24.000000</td>\n",
       "      <td>4.000000</td>\n",
       "      <td>1.000000</td>\n",
       "      <td>1.000000</td>\n",
       "      <td>1.000000</td>\n",
       "      <td>0.000000</td>\n",
       "      <td>6.0000</td>\n",
       "      <td>0.000000</td>\n",
       "      <td>4.000000</td>\n",
       "      <td>4.000000</td>\n",
       "      <td>15.000000</td>\n",
       "      <td>4.000000</td>\n",
       "    </tr>\n",
       "    <tr>\n",
       "      <th>max</th>\n",
       "      <td>25.000000</td>\n",
       "      <td>4.000000</td>\n",
       "      <td>1.000000</td>\n",
       "      <td>1.000000</td>\n",
       "      <td>1.000000</td>\n",
       "      <td>1.000000</td>\n",
       "      <td>7.0000</td>\n",
       "      <td>1.000000</td>\n",
       "      <td>5.000000</td>\n",
       "      <td>5.000000</td>\n",
       "      <td>19.000000</td>\n",
       "      <td>5.000000</td>\n",
       "    </tr>\n",
       "  </tbody>\n",
       "</table>\n",
       "</div>"
      ],
      "text/plain": [
       "               Age         CGPA   Depression      Anxiety  PanicAttack  \\\n",
       "count  1000.000000  1000.000000  1000.000000  1000.000000  1000.000000   \n",
       "mean     21.402000     3.122530     0.483000     0.474000     0.458000   \n",
       "std       2.373611     0.810961     0.499961     0.499573     0.498482   \n",
       "min      18.000000     2.000000     0.000000     0.000000     0.000000   \n",
       "25%      19.000000     2.250000     0.000000     0.000000     0.000000   \n",
       "50%      21.000000     3.250000     0.000000     0.000000     0.000000   \n",
       "75%      24.000000     4.000000     1.000000     1.000000     1.000000   \n",
       "max      25.000000     4.000000     1.000000     1.000000     1.000000   \n",
       "\n",
       "       SpecialistTreatment  SymptomFrequency_Last7Days  \\\n",
       "count          1000.000000                   1000.0000   \n",
       "mean              0.067000                      3.4980   \n",
       "std               0.250147                      2.3081   \n",
       "min               0.000000                      0.0000   \n",
       "25%               0.000000                      1.7500   \n",
       "50%               0.000000                      3.0000   \n",
       "75%               0.000000                      6.0000   \n",
       "max               1.000000                      7.0000   \n",
       "\n",
       "       HasMentalHealthSupport  SleepQuality  StudyStressLevel  \\\n",
       "count             1000.000000   1000.000000       1000.000000   \n",
       "mean                 0.067000      2.983000          3.045000   \n",
       "std                  0.250147      1.417999          1.417386   \n",
       "min                  0.000000      1.000000          1.000000   \n",
       "25%                  0.000000      2.000000          2.000000   \n",
       "50%                  0.000000      3.000000          3.000000   \n",
       "75%                  0.000000      4.000000          4.000000   \n",
       "max                  1.000000      5.000000          5.000000   \n",
       "\n",
       "       StudyHoursPerWeek  AcademicEngagement  \n",
       "count        1000.000000         1000.000000  \n",
       "mean            9.746000            3.055000  \n",
       "std             5.651497            1.422673  \n",
       "min             1.000000            1.000000  \n",
       "25%             5.000000            2.000000  \n",
       "50%             9.000000            3.000000  \n",
       "75%            15.000000            4.000000  \n",
       "max            19.000000            5.000000  "
      ]
     },
     "execution_count": 10,
     "metadata": {},
     "output_type": "execute_result"
    }
   ],
   "source": [
    "print(\"The statistical description of the dataset:\")\n",
    "df.describe()"
   ]
  },
  {
   "cell_type": "markdown",
   "id": "4af2c906",
   "metadata": {},
   "source": [
    "### Check missing value"
   ]
  },
  {
   "cell_type": "code",
   "execution_count": 9,
   "id": "b8f6ca73",
   "metadata": {},
   "outputs": [
    {
     "name": "stdout",
     "output_type": "stream",
     "text": [
      "Count of missing values in each column:\n"
     ]
    },
    {
     "data": {
      "text/plain": [
       "Timestamp                     0\n",
       "Gender                        0\n",
       "Age                           0\n",
       "Course                        0\n",
       "YearOfStudy                   0\n",
       "CGPA                          0\n",
       "Depression                    0\n",
       "Anxiety                       0\n",
       "PanicAttack                   0\n",
       "SpecialistTreatment           0\n",
       "SymptomFrequency_Last7Days    0\n",
       "HasMentalHealthSupport        0\n",
       "SleepQuality                  0\n",
       "StudyStressLevel              0\n",
       "StudyHoursPerWeek             0\n",
       "AcademicEngagement            0\n",
       "dtype: int64"
      ]
     },
     "execution_count": 9,
     "metadata": {},
     "output_type": "execute_result"
    }
   ],
   "source": [
    "print(\"Count of missing values in each column:\")\n",
    "df.isnull().sum()"
   ]
  },
  {
   "cell_type": "markdown",
   "id": "16c58c5b",
   "metadata": {},
   "source": [
    "#### There are no missing values in the dataset, which is ideal. Therefore, we can skip any data cleaning steps related to handling missing values."
   ]
  },
  {
   "cell_type": "markdown",
   "id": "85e883dc",
   "metadata": {},
   "source": [
    "### Display the shape of the dataset"
   ]
  },
  {
   "cell_type": "code",
   "execution_count": 8,
   "id": "b6b690ac",
   "metadata": {},
   "outputs": [
    {
     "name": "stdout",
     "output_type": "stream",
     "text": [
      "Shape of the dataset:\n"
     ]
    },
    {
     "data": {
      "text/plain": [
       "(1000, 16)"
      ]
     },
     "execution_count": 8,
     "metadata": {},
     "output_type": "execute_result"
    }
   ],
   "source": [
    "print(\"Shape of the dataset:\")\n",
    "df.shape"
   ]
  },
  {
   "cell_type": "markdown",
   "id": "0d3b2994",
   "metadata": {},
   "source": []
  }
 ],
 "metadata": {
  "kernelspec": {
   "display_name": "Python 3",
   "language": "python",
   "name": "python3"
  },
  "language_info": {
   "codemirror_mode": {
    "name": "ipython",
    "version": 3
   },
   "file_extension": ".py",
   "mimetype": "text/x-python",
   "name": "python",
   "nbconvert_exporter": "python",
   "pygments_lexer": "ipython3",
   "version": "3.13.3"
  }
 },
 "nbformat": 4,
 "nbformat_minor": 5
}
