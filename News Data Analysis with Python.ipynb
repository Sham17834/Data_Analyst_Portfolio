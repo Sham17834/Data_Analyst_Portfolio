{
 "cells": [
  {
   "cell_type": "markdown",
   "id": "a8870a2f",
   "metadata": {},
   "source": [
    "# Load necessary libraries"
   ]
  },
  {
   "cell_type": "code",
   "execution_count": 2,
   "id": "135bec54",
   "metadata": {},
   "outputs": [],
   "source": [
    "import pandas as pd\n",
    "import matplotlib.pyplot as plt\n",
    "import seaborn as sns\n",
    "import numpy as np"
   ]
  },
  {
   "cell_type": "markdown",
   "id": "62b9c3b1",
   "metadata": {},
   "source": [
    "# Load the dataset"
   ]
  },
  {
   "cell_type": "code",
   "execution_count": 3,
   "id": "882109de",
   "metadata": {},
   "outputs": [],
   "source": [
    "df = pd.read_csv(\"C:/Project/Python project/news_v1.csv\")"
   ]
  },
  {
   "cell_type": "markdown",
   "id": "fe7e1ff7",
   "metadata": {},
   "source": [
    "# Display first 5 rows"
   ]
  },
  {
   "cell_type": "code",
   "execution_count": 4,
   "id": "bb55fedd",
   "metadata": {},
   "outputs": [
    {
     "name": "stdout",
     "output_type": "stream",
     "text": [
      "First five rows:\n"
     ]
    },
    {
     "data": {
      "text/html": [
       "<div>\n",
       "<style scoped>\n",
       "    .dataframe tbody tr th:only-of-type {\n",
       "        vertical-align: middle;\n",
       "    }\n",
       "\n",
       "    .dataframe tbody tr th {\n",
       "        vertical-align: top;\n",
       "    }\n",
       "\n",
       "    .dataframe thead th {\n",
       "        text-align: right;\n",
       "    }\n",
       "</style>\n",
       "<table border=\"1\" class=\"dataframe\">\n",
       "  <thead>\n",
       "    <tr style=\"text-align: right;\">\n",
       "      <th></th>\n",
       "      <th>content_id</th>\n",
       "      <th>title</th>\n",
       "      <th>text</th>\n",
       "      <th>section</th>\n",
       "      <th>category</th>\n",
       "      <th>content_tier</th>\n",
       "      <th>content_length</th>\n",
       "      <th>authors</th>\n",
       "      <th>published_date</th>\n",
       "      <th>keywords</th>\n",
       "      <th>summary</th>\n",
       "      <th>url</th>\n",
       "      <th>top_image</th>\n",
       "    </tr>\n",
       "  </thead>\n",
       "  <tbody>\n",
       "    <tr>\n",
       "      <th>0</th>\n",
       "      <td>1628064</td>\n",
       "      <td>Sabah forms GLC Monitoring Committee to enhanc...</td>\n",
       "      <td>KOTA KINABALU: In a significant move to improv...</td>\n",
       "      <td>News</td>\n",
       "      <td>Sabah &amp; Sarawak</td>\n",
       "      <td>Complimentary</td>\n",
       "      <td>Medium</td>\n",
       "      <td>NaN</td>\n",
       "      <td>23/5/2025 0:00</td>\n",
       "      <td>Sabah &amp; Sarawak,Sabah,GLC Monitoring Committee...</td>\n",
       "      <td>KOTA KINABALU: In a significant move to improv...</td>\n",
       "      <td>https://www.thestar.com.my/news/nation/2025/05...</td>\n",
       "      <td>https://apicms.thestar.com.my/uploads/images/2...</td>\n",
       "    </tr>\n",
       "    <tr>\n",
       "      <th>1</th>\n",
       "      <td>1628059</td>\n",
       "      <td>Water to return by midnight in Johor Baru, ass...</td>\n",
       "      <td>JOHOR BARU: Everyone affected by the major wat...</td>\n",
       "      <td>News</td>\n",
       "      <td>Nation</td>\n",
       "      <td>Complimentary</td>\n",
       "      <td>Short</td>\n",
       "      <td>NaN</td>\n",
       "      <td>23/5/2025 0:00</td>\n",
       "      <td>Johor Baru,Water Disruption,Onn Hafiz Ghazi,Ra...</td>\n",
       "      <td>JOHOR BARU: Everyone affected by the major wat...</td>\n",
       "      <td>https://www.thestar.com.my/news/nation/2025/05...</td>\n",
       "      <td>https://apicms.thestar.com.my/uploads/images/2...</td>\n",
       "    </tr>\n",
       "    <tr>\n",
       "      <th>2</th>\n",
       "      <td>1628050</td>\n",
       "      <td>MBSA to probe mysterious blast-like sound hear...</td>\n",
       "      <td>SHAH ALAM: The Selangor government will conduc...</td>\n",
       "      <td>News</td>\n",
       "      <td>Nation</td>\n",
       "      <td>Complimentary</td>\n",
       "      <td>Short</td>\n",
       "      <td>NaN</td>\n",
       "      <td>23/5/2025 0:00</td>\n",
       "      <td>Selangor,MBSA,Loud Bang,Explosion,Shah Alam</td>\n",
       "      <td>SHAH ALAM: The Selangor government will conduc...</td>\n",
       "      <td>https://www.thestar.com.my/news/nation/2025/05...</td>\n",
       "      <td>https://apicms.thestar.com.my/uploads/images/2...</td>\n",
       "    </tr>\n",
       "    <tr>\n",
       "      <th>3</th>\n",
       "      <td>1628027</td>\n",
       "      <td>Kelantan govt must take sex crimes against chi...</td>\n",
       "      <td>JOHOR BARU: The Kelantan government should tre...</td>\n",
       "      <td>News</td>\n",
       "      <td>Nation</td>\n",
       "      <td>Complimentary</td>\n",
       "      <td>Short</td>\n",
       "      <td>NaN</td>\n",
       "      <td>23/5/2025 0:00</td>\n",
       "      <td>Politics,PKR,PKR Polls,Youth,Delegate,Debate,N...</td>\n",
       "      <td>JOHOR BARU: The Kelantan government should tre...</td>\n",
       "      <td>https://www.thestar.com.my/news/nation/2025/05...</td>\n",
       "      <td>https://apicms.thestar.com.my/uploads/images/2...</td>\n",
       "    </tr>\n",
       "    <tr>\n",
       "      <th>4</th>\n",
       "      <td>1628021</td>\n",
       "      <td>Two more ex-bank officers remanded over RM11.3...</td>\n",
       "      <td>SANDAKAN: Two former bank officers have been r...</td>\n",
       "      <td>News</td>\n",
       "      <td>Sabah &amp; Sarawak</td>\n",
       "      <td>Complimentary</td>\n",
       "      <td>Short</td>\n",
       "      <td>NaN</td>\n",
       "      <td>23/5/2025 0:00</td>\n",
       "      <td>Sabah &amp; Sarawak,Courts Crime,Corruption,MACC,F...</td>\n",
       "      <td>SANDAKAN: Two former bank officers have been r...</td>\n",
       "      <td>https://www.thestar.com.my/news/nation/2025/05...</td>\n",
       "      <td>https://apicms.thestar.com.my/uploads/images/2...</td>\n",
       "    </tr>\n",
       "  </tbody>\n",
       "</table>\n",
       "</div>"
      ],
      "text/plain": [
       "   content_id                                              title  \\\n",
       "0     1628064  Sabah forms GLC Monitoring Committee to enhanc...   \n",
       "1     1628059  Water to return by midnight in Johor Baru, ass...   \n",
       "2     1628050  MBSA to probe mysterious blast-like sound hear...   \n",
       "3     1628027  Kelantan govt must take sex crimes against chi...   \n",
       "4     1628021  Two more ex-bank officers remanded over RM11.3...   \n",
       "\n",
       "                                                text section         category  \\\n",
       "0  KOTA KINABALU: In a significant move to improv...    News  Sabah & Sarawak   \n",
       "1  JOHOR BARU: Everyone affected by the major wat...    News           Nation   \n",
       "2  SHAH ALAM: The Selangor government will conduc...    News           Nation   \n",
       "3  JOHOR BARU: The Kelantan government should tre...    News           Nation   \n",
       "4  SANDAKAN: Two former bank officers have been r...    News  Sabah & Sarawak   \n",
       "\n",
       "    content_tier content_length authors  published_date  \\\n",
       "0  Complimentary         Medium     NaN  23/5/2025 0:00   \n",
       "1  Complimentary          Short     NaN  23/5/2025 0:00   \n",
       "2  Complimentary          Short     NaN  23/5/2025 0:00   \n",
       "3  Complimentary          Short     NaN  23/5/2025 0:00   \n",
       "4  Complimentary          Short     NaN  23/5/2025 0:00   \n",
       "\n",
       "                                            keywords  \\\n",
       "0  Sabah & Sarawak,Sabah,GLC Monitoring Committee...   \n",
       "1  Johor Baru,Water Disruption,Onn Hafiz Ghazi,Ra...   \n",
       "2        Selangor,MBSA,Loud Bang,Explosion,Shah Alam   \n",
       "3  Politics,PKR,PKR Polls,Youth,Delegate,Debate,N...   \n",
       "4  Sabah & Sarawak,Courts Crime,Corruption,MACC,F...   \n",
       "\n",
       "                                             summary  \\\n",
       "0  KOTA KINABALU: In a significant move to improv...   \n",
       "1  JOHOR BARU: Everyone affected by the major wat...   \n",
       "2  SHAH ALAM: The Selangor government will conduc...   \n",
       "3  JOHOR BARU: The Kelantan government should tre...   \n",
       "4  SANDAKAN: Two former bank officers have been r...   \n",
       "\n",
       "                                                 url  \\\n",
       "0  https://www.thestar.com.my/news/nation/2025/05...   \n",
       "1  https://www.thestar.com.my/news/nation/2025/05...   \n",
       "2  https://www.thestar.com.my/news/nation/2025/05...   \n",
       "3  https://www.thestar.com.my/news/nation/2025/05...   \n",
       "4  https://www.thestar.com.my/news/nation/2025/05...   \n",
       "\n",
       "                                           top_image  \n",
       "0  https://apicms.thestar.com.my/uploads/images/2...  \n",
       "1  https://apicms.thestar.com.my/uploads/images/2...  \n",
       "2  https://apicms.thestar.com.my/uploads/images/2...  \n",
       "3  https://apicms.thestar.com.my/uploads/images/2...  \n",
       "4  https://apicms.thestar.com.my/uploads/images/2...  "
      ]
     },
     "execution_count": 4,
     "metadata": {},
     "output_type": "execute_result"
    }
   ],
   "source": [
    "print(\"First five rows:\")\n",
    "df.head()"
   ]
  },
  {
   "cell_type": "markdown",
   "id": "9f20af7a",
   "metadata": {},
   "source": [
    "# Display dataset info"
   ]
  },
  {
   "cell_type": "code",
   "execution_count": 5,
   "id": "b39ad74c",
   "metadata": {},
   "outputs": [
    {
     "name": "stdout",
     "output_type": "stream",
     "text": [
      "Dataset Information:\n",
      "<class 'pandas.core.frame.DataFrame'>\n",
      "RangeIndex: 73377 entries, 0 to 73376\n",
      "Data columns (total 13 columns):\n",
      " #   Column          Non-Null Count  Dtype \n",
      "---  ------          --------------  ----- \n",
      " 0   content_id      73377 non-null  int64 \n",
      " 1   title           73377 non-null  object\n",
      " 2   text            73377 non-null  object\n",
      " 3   section         73377 non-null  object\n",
      " 4   category        73373 non-null  object\n",
      " 5   content_tier    73377 non-null  object\n",
      " 6   content_length  73377 non-null  object\n",
      " 7   authors         4473 non-null   object\n",
      " 8   published_date  73377 non-null  object\n",
      " 9   keywords        55568 non-null  object\n",
      " 10  summary         73268 non-null  object\n",
      " 11  url             73377 non-null  object\n",
      " 12  top_image       73377 non-null  object\n",
      "dtypes: int64(1), object(12)\n",
      "memory usage: 7.3+ MB\n"
     ]
    }
   ],
   "source": [
    "print(\"Dataset Information:\")\n",
    "df.info()"
   ]
  },
  {
   "cell_type": "markdown",
   "id": "3b23f2bd",
   "metadata": {},
   "source": [
    "# Basic statistics"
   ]
  },
  {
   "cell_type": "code",
   "execution_count": 6,
   "id": "572200b2",
   "metadata": {},
   "outputs": [
    {
     "name": "stdout",
     "output_type": "stream",
     "text": [
      "\n",
      "Basic statistics:\n",
      "         content_id\n",
      "count  7.337700e+04\n",
      "mean   1.453053e+06\n",
      "std    1.026291e+05\n",
      "min    4.087830e+05\n",
      "25%    1.360545e+06\n",
      "50%    1.452752e+06\n",
      "75%    1.543738e+06\n",
      "max    1.628096e+06\n"
     ]
    }
   ],
   "source": [
    "print(\"\\nBasic statistics:\")\n",
    "print(df.describe())"
   ]
  },
  {
   "cell_type": "markdown",
   "id": "4cca137b",
   "metadata": {},
   "source": [
    "# Check for missing values"
   ]
  },
  {
   "cell_type": "code",
   "execution_count": 7,
   "id": "30b61ea6",
   "metadata": {},
   "outputs": [
    {
     "name": "stdout",
     "output_type": "stream",
     "text": [
      "\n",
      "Missing values:\n",
      "content_id            0\n",
      "title                 0\n",
      "text                  0\n",
      "section               0\n",
      "category              4\n",
      "content_tier          0\n",
      "content_length        0\n",
      "authors           68904\n",
      "published_date        0\n",
      "keywords          17809\n",
      "summary             109\n",
      "url                   0\n",
      "top_image             0\n",
      "dtype: int64\n"
     ]
    }
   ],
   "source": [
    "print(\"\\nMissing values:\")\n",
    "print(df.isnull().sum())"
   ]
  },
  {
   "cell_type": "markdown",
   "id": "b7dadf26",
   "metadata": {},
   "source": [
    "# Data Cleaning"
   ]
  },
  {
   "cell_type": "markdown",
   "id": "a0c47c2d",
   "metadata": {},
   "source": [
    "# Fill category, authors, keywords, and summary with unknown because these attribute content are unique"
   ]
  },
  {
   "cell_type": "code",
   "execution_count": 8,
   "id": "ed8c0ded",
   "metadata": {},
   "outputs": [],
   "source": [
    "drop_columns = ['category', 'authors', 'keywords', 'summary']\n",
    "for col in drop_columns:\n",
    "    if col in df.columns:\n",
    "        df[col] = 'Unknown'"
   ]
  },
  {
   "cell_type": "markdown",
   "id": "97514af0",
   "metadata": {},
   "source": [
    "# Check missing value again"
   ]
  },
  {
   "cell_type": "code",
   "execution_count": 19,
   "id": "6b036afc",
   "metadata": {},
   "outputs": [
    {
     "name": "stdout",
     "output_type": "stream",
     "text": [
      "\n",
      "Missing values:\n",
      "content_id        0\n",
      "title             0\n",
      "text              0\n",
      "section           0\n",
      "category          0\n",
      "content_tier      0\n",
      "content_length    0\n",
      "authors           0\n",
      "published_date    0\n",
      "keywords          0\n",
      "summary           0\n",
      "url               0\n",
      "top_image         0\n",
      "dtype: int64\n"
     ]
    }
   ],
   "source": [
    "print(\"\\nMissing values:\")\n",
    "print(df.isnull().sum())"
   ]
  },
  {
   "cell_type": "markdown",
   "id": "8091fedb",
   "metadata": {},
   "source": [
    "# "
   ]
  }
 ],
 "metadata": {
  "kernelspec": {
   "display_name": "Python 3",
   "language": "python",
   "name": "python3"
  },
  "language_info": {
   "codemirror_mode": {
    "name": "ipython",
    "version": 3
   },
   "file_extension": ".py",
   "mimetype": "text/x-python",
   "name": "python",
   "nbconvert_exporter": "python",
   "pygments_lexer": "ipython3",
   "version": "3.13.3"
  }
 },
 "nbformat": 4,
 "nbformat_minor": 5
}
