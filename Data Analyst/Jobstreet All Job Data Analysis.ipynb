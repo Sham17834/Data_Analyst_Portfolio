{
 "cells": [
  {
   "cell_type": "markdown",
   "id": "91724752",
   "metadata": {},
   "source": [
    "# Jobstreet All Job Data Analysis"
   ]
  },
  {
   "cell_type": "markdown",
   "id": "2da7766c",
   "metadata": {},
   "source": [
    "Import necessary libraries"
   ]
  },
  {
   "cell_type": "code",
   "execution_count": 3,
   "id": "3e86fc6f",
   "metadata": {},
   "outputs": [],
   "source": [
    "import pandas as pd\n",
    "import numpy as np\n",
    "import matplotlib.pyplot as plt\n",
    "import seaborn as sns"
   ]
  },
  {
   "cell_type": "markdown",
   "id": "63ba3d79",
   "metadata": {},
   "source": [
    "Load the dataset"
   ]
  },
  {
   "cell_type": "code",
   "execution_count": 4,
   "id": "a5182a08",
   "metadata": {},
   "outputs": [],
   "source": [
    "df = pd.read_csv(\"C:/Project/Python project/Data Analyst/jobstreet_all_job_dataset.csv\")"
   ]
  },
  {
   "cell_type": "markdown",
   "id": "5f5e590c",
   "metadata": {},
   "source": [
    "Display first five rows"
   ]
  },
  {
   "cell_type": "code",
   "execution_count": 9,
   "id": "1269bd29",
   "metadata": {},
   "outputs": [
    {
     "name": "stdout",
     "output_type": "stream",
     "text": [
      "The first 5 rows of the dataset:\n"
     ]
    },
    {
     "data": {
      "text/html": [
       "<div>\n",
       "<style scoped>\n",
       "    .dataframe tbody tr th:only-of-type {\n",
       "        vertical-align: middle;\n",
       "    }\n",
       "\n",
       "    .dataframe tbody tr th {\n",
       "        vertical-align: top;\n",
       "    }\n",
       "\n",
       "    .dataframe thead th {\n",
       "        text-align: right;\n",
       "    }\n",
       "</style>\n",
       "<table border=\"1\" class=\"dataframe\">\n",
       "  <thead>\n",
       "    <tr style=\"text-align: right;\">\n",
       "      <th></th>\n",
       "      <th>job_id</th>\n",
       "      <th>job_title</th>\n",
       "      <th>company</th>\n",
       "      <th>descriptions</th>\n",
       "      <th>location</th>\n",
       "      <th>category</th>\n",
       "      <th>subcategory</th>\n",
       "      <th>role</th>\n",
       "      <th>type</th>\n",
       "      <th>salary</th>\n",
       "      <th>listingDate</th>\n",
       "    </tr>\n",
       "  </thead>\n",
       "  <tbody>\n",
       "    <tr>\n",
       "      <th>0</th>\n",
       "      <td>74630583.0</td>\n",
       "      <td>Procurement Executive (Contract)</td>\n",
       "      <td>Coca-Cola Bottlers (Malaysia) Sdn Bhd</td>\n",
       "      <td>Position Purpose\\nManage aspects of procuremen...</td>\n",
       "      <td>Negeri Sembilan</td>\n",
       "      <td>Manufacturing, Transport &amp; Logistics</td>\n",
       "      <td>Purchasing, Procurement &amp; Inventory</td>\n",
       "      <td>procurement-executive</td>\n",
       "      <td>Contract/Temp</td>\n",
       "      <td>NaN</td>\n",
       "      <td>2024-03-21T05:58:35Z</td>\n",
       "    </tr>\n",
       "    <tr>\n",
       "      <th>1</th>\n",
       "      <td>74660602.0</td>\n",
       "      <td>Account Executive/ Assistant</td>\n",
       "      <td>Acoustic &amp; Lighting System Sdn Bhd</td>\n",
       "      <td>We are looking for a Account Executive/ Assist...</td>\n",
       "      <td>Petaling</td>\n",
       "      <td>Accounting</td>\n",
       "      <td>Bookkeeping &amp; Small Practice Accounting</td>\n",
       "      <td>executive-assistant</td>\n",
       "      <td>Full time</td>\n",
       "      <td>RM 2,800 – RM 3,200 per month</td>\n",
       "      <td>2024-03-22T06:52:57Z</td>\n",
       "    </tr>\n",
       "    <tr>\n",
       "      <th>2</th>\n",
       "      <td>74655679.0</td>\n",
       "      <td>Data Analyst - Asset Management, SPX Express</td>\n",
       "      <td>Shopee Mobile Malaysia Sdn Bhd</td>\n",
       "      <td>Performs detailed data analysis on existing sp...</td>\n",
       "      <td>Klang District</td>\n",
       "      <td>Manufacturing, Transport &amp; Logistics</td>\n",
       "      <td>Analysis &amp; Reporting</td>\n",
       "      <td>asset-management-analyst</td>\n",
       "      <td>Full time</td>\n",
       "      <td>NaN</td>\n",
       "      <td>2024-03-22T04:22:43Z</td>\n",
       "    </tr>\n",
       "    <tr>\n",
       "      <th>3</th>\n",
       "      <td>74657624.0</td>\n",
       "      <td>Service Engineer</td>\n",
       "      <td>Sun Medical Systems Sdn Bhd</td>\n",
       "      <td>You are important for troubleshooting, install...</td>\n",
       "      <td>Petaling</td>\n",
       "      <td>Engineering</td>\n",
       "      <td>Electrical/Electronic Engineering</td>\n",
       "      <td>services-engineer</td>\n",
       "      <td>Full time</td>\n",
       "      <td>RM 3,000 – RM 3,500 per month</td>\n",
       "      <td>2024-03-22T05:32:09Z</td>\n",
       "    </tr>\n",
       "    <tr>\n",
       "      <th>4</th>\n",
       "      <td>74679363.0</td>\n",
       "      <td>Purchasing Executive</td>\n",
       "      <td>Magnet Security &amp; Automation Sdn. Bhd.</td>\n",
       "      <td>MAG is a trailblazer in the industry, boasting...</td>\n",
       "      <td>Hulu Langat</td>\n",
       "      <td>Manufacturing, Transport &amp; Logistics</td>\n",
       "      <td>Purchasing, Procurement &amp; Inventory</td>\n",
       "      <td>purchasing-executive</td>\n",
       "      <td>Full time</td>\n",
       "      <td>RM 2,800 – RM 3,500 per month</td>\n",
       "      <td>2024-03-23T03:56:39Z</td>\n",
       "    </tr>\n",
       "  </tbody>\n",
       "</table>\n",
       "</div>"
      ],
      "text/plain": [
       "       job_id                                     job_title  \\\n",
       "0  74630583.0              Procurement Executive (Contract)   \n",
       "1  74660602.0                  Account Executive/ Assistant   \n",
       "2  74655679.0  Data Analyst - Asset Management, SPX Express   \n",
       "3  74657624.0                              Service Engineer   \n",
       "4  74679363.0                          Purchasing Executive   \n",
       "\n",
       "                                  company  \\\n",
       "0   Coca-Cola Bottlers (Malaysia) Sdn Bhd   \n",
       "1      Acoustic & Lighting System Sdn Bhd   \n",
       "2          Shopee Mobile Malaysia Sdn Bhd   \n",
       "3             Sun Medical Systems Sdn Bhd   \n",
       "4  Magnet Security & Automation Sdn. Bhd.   \n",
       "\n",
       "                                        descriptions         location  \\\n",
       "0  Position Purpose\\nManage aspects of procuremen...  Negeri Sembilan   \n",
       "1  We are looking for a Account Executive/ Assist...         Petaling   \n",
       "2  Performs detailed data analysis on existing sp...   Klang District   \n",
       "3  You are important for troubleshooting, install...         Petaling   \n",
       "4  MAG is a trailblazer in the industry, boasting...      Hulu Langat   \n",
       "\n",
       "                               category  \\\n",
       "0  Manufacturing, Transport & Logistics   \n",
       "1                            Accounting   \n",
       "2  Manufacturing, Transport & Logistics   \n",
       "3                           Engineering   \n",
       "4  Manufacturing, Transport & Logistics   \n",
       "\n",
       "                               subcategory                      role  \\\n",
       "0      Purchasing, Procurement & Inventory     procurement-executive   \n",
       "1  Bookkeeping & Small Practice Accounting       executive-assistant   \n",
       "2                     Analysis & Reporting  asset-management-analyst   \n",
       "3        Electrical/Electronic Engineering         services-engineer   \n",
       "4      Purchasing, Procurement & Inventory      purchasing-executive   \n",
       "\n",
       "            type                         salary           listingDate  \n",
       "0  Contract/Temp                            NaN  2024-03-21T05:58:35Z  \n",
       "1      Full time  RM 2,800 – RM 3,200 per month  2024-03-22T06:52:57Z  \n",
       "2      Full time                            NaN  2024-03-22T04:22:43Z  \n",
       "3      Full time  RM 3,000 – RM 3,500 per month  2024-03-22T05:32:09Z  \n",
       "4      Full time  RM 2,800 – RM 3,500 per month  2024-03-23T03:56:39Z  "
      ]
     },
     "execution_count": 9,
     "metadata": {},
     "output_type": "execute_result"
    }
   ],
   "source": [
    "print(\"The first 5 rows of the dataset:\")\n",
    "df.head()"
   ]
  },
  {
   "cell_type": "markdown",
   "id": "0c3d5732",
   "metadata": {},
   "source": [
    "Display dataset info"
   ]
  },
  {
   "cell_type": "code",
   "execution_count": 8,
   "id": "43b2bb25",
   "metadata": {},
   "outputs": [
    {
     "name": "stdout",
     "output_type": "stream",
     "text": [
      "Dataset information:\n",
      "<class 'pandas.core.frame.DataFrame'>\n",
      "RangeIndex: 69024 entries, 0 to 69023\n",
      "Data columns (total 11 columns):\n",
      " #   Column        Non-Null Count  Dtype  \n",
      "---  ------        --------------  -----  \n",
      " 0   job_id        69024 non-null  float64\n",
      " 1   job_title     69024 non-null  object \n",
      " 2   company       69024 non-null  object \n",
      " 3   descriptions  69024 non-null  object \n",
      " 4   location      69024 non-null  object \n",
      " 5   category      69024 non-null  object \n",
      " 6   subcategory   69024 non-null  object \n",
      " 7   role          66772 non-null  object \n",
      " 8   type          69024 non-null  object \n",
      " 9   salary        31594 non-null  object \n",
      " 10  listingDate   69024 non-null  object \n",
      "dtypes: float64(1), object(10)\n",
      "memory usage: 5.8+ MB\n"
     ]
    }
   ],
   "source": [
    "print(\"Dataset information:\")\n",
    "df.info()"
   ]
  },
  {
   "cell_type": "markdown",
   "id": "db48f4d9",
   "metadata": {},
   "source": [
    "Display dataset basic statistics"
   ]
  },
  {
   "cell_type": "code",
   "execution_count": 10,
   "id": "568bb2bb",
   "metadata": {},
   "outputs": [
    {
     "name": "stdout",
     "output_type": "stream",
     "text": [
      "Dataset description:\n"
     ]
    },
    {
     "data": {
      "text/html": [
       "<div>\n",
       "<style scoped>\n",
       "    .dataframe tbody tr th:only-of-type {\n",
       "        vertical-align: middle;\n",
       "    }\n",
       "\n",
       "    .dataframe tbody tr th {\n",
       "        vertical-align: top;\n",
       "    }\n",
       "\n",
       "    .dataframe thead th {\n",
       "        text-align: right;\n",
       "    }\n",
       "</style>\n",
       "<table border=\"1\" class=\"dataframe\">\n",
       "  <thead>\n",
       "    <tr style=\"text-align: right;\">\n",
       "      <th></th>\n",
       "      <th>job_id</th>\n",
       "    </tr>\n",
       "  </thead>\n",
       "  <tbody>\n",
       "    <tr>\n",
       "      <th>count</th>\n",
       "      <td>6.902400e+04</td>\n",
       "    </tr>\n",
       "    <tr>\n",
       "      <th>mean</th>\n",
       "      <td>7.614520e+07</td>\n",
       "    </tr>\n",
       "    <tr>\n",
       "      <th>std</th>\n",
       "      <td>3.014281e+06</td>\n",
       "    </tr>\n",
       "    <tr>\n",
       "      <th>min</th>\n",
       "      <td>7.134223e+07</td>\n",
       "    </tr>\n",
       "    <tr>\n",
       "      <th>25%</th>\n",
       "      <td>7.439537e+07</td>\n",
       "    </tr>\n",
       "    <tr>\n",
       "      <th>50%</th>\n",
       "      <td>7.499362e+07</td>\n",
       "    </tr>\n",
       "    <tr>\n",
       "      <th>75%</th>\n",
       "      <td>7.627486e+07</td>\n",
       "    </tr>\n",
       "    <tr>\n",
       "      <th>max</th>\n",
       "      <td>8.409473e+07</td>\n",
       "    </tr>\n",
       "  </tbody>\n",
       "</table>\n",
       "</div>"
      ],
      "text/plain": [
       "             job_id\n",
       "count  6.902400e+04\n",
       "mean   7.614520e+07\n",
       "std    3.014281e+06\n",
       "min    7.134223e+07\n",
       "25%    7.439537e+07\n",
       "50%    7.499362e+07\n",
       "75%    7.627486e+07\n",
       "max    8.409473e+07"
      ]
     },
     "execution_count": 10,
     "metadata": {},
     "output_type": "execute_result"
    }
   ],
   "source": [
    "print(\"Dataset description:\")\n",
    "df.describe()"
   ]
  },
  {
   "cell_type": "markdown",
   "id": "77576eee",
   "metadata": {},
   "source": [
    "# Data Cleaning"
   ]
  }
 ],
 "metadata": {
  "kernelspec": {
   "display_name": "Python 3",
   "language": "python",
   "name": "python3"
  },
  "language_info": {
   "codemirror_mode": {
    "name": "ipython",
    "version": 3
   },
   "file_extension": ".py",
   "mimetype": "text/x-python",
   "name": "python",
   "nbconvert_exporter": "python",
   "pygments_lexer": "ipython3",
   "version": "3.13.3"
  }
 },
 "nbformat": 4,
 "nbformat_minor": 5
}
